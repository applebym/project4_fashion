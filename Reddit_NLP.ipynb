{
 "cells": [
  {
   "cell_type": "markdown",
   "metadata": {},
   "source": [
    "# Retrieve data from MongoDB"
   ]
  },
  {
   "cell_type": "code",
   "execution_count": null,
   "metadata": {
    "collapsed": true
   },
   "outputs": [],
   "source": [
    "import pymongo\n",
    "from pymongo import MongoClient\n",
    "client = MongoClient('localhost', 27017)\n",
    "db = client.reddit_database\n",
    "collection_top = db.reddit_top\n",
    "collection_contro = db.reddit_contro"
   ]
  },
  {
   "cell_type": "code",
   "execution_count": null,
   "metadata": {
    "collapsed": false
   },
   "outputs": [],
   "source": [
    "# Create list of comments from 'controversial' submissions\n",
    "contro = {}\n",
    "i = 1\n",
    "for d in collection_contro.find():\n",
    "    temp = {}\n",
    "    temp['title'] = d['title']\n",
    "    comments_only = [x[0] for x in d['comments']]\n",
    "    temp['comments'] = comments_only\n",
    "    contro[i] = temp\n",
    "    i += 1\n",
    "\n",
    "# Create list of comments from 'top' submissions\n",
    "top = {}\n",
    "j = 1\n",
    "for d in collection_top.find():\n",
    "    temp = {}\n",
    "    temp['title'] = d['title']\n",
    "    comments_only = [x[0] for x in d['comments']]\n",
    "    temp['comments'] = comments_only\n",
    "    top[j] = temp\n",
    "    j += 1"
   ]
  },
  {
   "cell_type": "markdown",
   "metadata": {},
   "source": [
    "# Clean text"
   ]
  },
  {
   "cell_type": "code",
   "execution_count": null,
   "metadata": {
    "collapsed": true
   },
   "outputs": [],
   "source": [
    "import re\n",
    "import string\n",
    "\n",
    "\n",
    "def clean_text(text):\n",
    "    # Remove unicode characters\n",
    "    text = re.sub('[^\\x00-\\x7F]+', '', text)\n",
    "    # Convert to python ASCII string\n",
    "    text = str(text.encode('ascii'))\n",
    "    # Convert to lowercase\n",
    "    text = text.lower()\n",
    "    # Remove new line characters\n",
    "    text = text.replace('\\n',' ')\n",
    "    # Remove links\n",
    "    text = re.sub('http\\S+', '', text)\n",
    "    # Remove punctuation \n",
    "    to_remove = string.punctuation.replace(\"'\",'')\n",
    "    text = re.sub('['+to_remove+']+', '', text)\n",
    "    # Remove numbers\n",
    "    text = re.sub('\\d', '', text)\n",
    "    return text\n",
    "        \n",
    "\n",
    "def clean_dictionary(dictionary):\n",
    "    for _, value in dictionary.items():\n",
    "        value['title'] = clean_text(value['title'])\n",
    "        comments = value['comments']\n",
    "        for i in range(len(comments)):\n",
    "             comments[i] = clean_text(comments[i])\n",
    "        value['comments'] = comments\n",
    "    return dictionary"
   ]
  },
  {
   "cell_type": "code",
   "execution_count": null,
   "metadata": {
    "collapsed": false
   },
   "outputs": [],
   "source": [
    "contro = clean_dictionary(contro)\n",
    "top = clean_dictionary(top)"
   ]
  },
  {
   "cell_type": "code",
   "execution_count": null,
   "metadata": {
    "collapsed": false
   },
   "outputs": [],
   "source": [
    "test = {key: top[key] for key in top.keys()[:1]}\n",
    "print test"
   ]
  },
  {
   "cell_type": "markdown",
   "metadata": {},
   "source": [
    "### Remove Contractions"
   ]
  },
  {
   "cell_type": "code",
   "execution_count": null,
   "metadata": {
    "collapsed": false
   },
   "outputs": [],
   "source": [
    "def replace_contractions(contraction_dict, corpus_dict):\n",
    "    for _, value in corpus_dict.items():\n",
    "        for contr, full in contraction_dict.items():\n",
    "            for i in range(len(value['comments'])):\n",
    "                value['comments'][i] = re.sub(contr, full, value['comments'][i])\n",
    "            value['title'] = re.sub(contr, full, value['title'])\n",
    "    return corpus_dict"
   ]
  },
  {
   "cell_type": "code",
   "execution_count": null,
   "metadata": {
    "collapsed": true
   },
   "outputs": [],
   "source": [
    "import pickle\n",
    "\n",
    "with open('pickles/contractions.pickle','rb') as handle:\n",
    "    contraction_dict = pickle.load(handle)"
   ]
  },
  {
   "cell_type": "code",
   "execution_count": null,
   "metadata": {
    "collapsed": false
   },
   "outputs": [],
   "source": [
    "contro = replace_contractions(contraction_dict, contro)\n",
    "top = replace_contractions(contraction_dict, top)"
   ]
  },
  {
   "cell_type": "code",
   "execution_count": null,
   "metadata": {
    "collapsed": false
   },
   "outputs": [],
   "source": [
    "test = {key: top[key] for key in top.keys()[:1]}\n",
    "print test"
   ]
  },
  {
   "cell_type": "markdown",
   "metadata": {},
   "source": [
    "# Tokenize"
   ]
  },
  {
   "cell_type": "code",
   "execution_count": null,
   "metadata": {
    "collapsed": false
   },
   "outputs": [],
   "source": [
    "from nltk.tokenize import WhitespaceTokenizer, word_tokenize"
   ]
  },
  {
   "cell_type": "code",
   "execution_count": null,
   "metadata": {
    "collapsed": false
   },
   "outputs": [],
   "source": [
    "def get_tokens(corpus_dict):\n",
    "    for _, value in corpus_dict.items():\n",
    "        for i in range(len(value['comments'])):\n",
    "            value['comments'][i] = nltk.word_tokenize(value['comments'][i])\n",
    "        value['title'] = word_tokenize(value['title'])\n",
    "    return corpus_dict"
   ]
  },
  {
   "cell_type": "code",
   "execution_count": null,
   "metadata": {
    "collapsed": false
   },
   "outputs": [],
   "source": [
    "contro = get_tokens(contro)\n",
    "top = get_tokens(top)"
   ]
  },
  {
   "cell_type": "code",
   "execution_count": null,
   "metadata": {
    "collapsed": true
   },
   "outputs": [],
   "source": [
    "def counter(corpus_dict):\n",
    "    count = 0\n",
    "    for _, value in corpus_dict.items():\n",
    "        for i in range(len(value['comments'])):\n",
    "            count += len(value['comments'][i])\n",
    "        count += len(value['title'])\n",
    "    return count"
   ]
  },
  {
   "cell_type": "code",
   "execution_count": null,
   "metadata": {
    "collapsed": false
   },
   "outputs": [],
   "source": [
    "print 'There are %d word occurances in the \"top\" corpus.' % counter(top)\n",
    "print 'There are %d word occurances in the \"controversial\" corpus.' % counter(contro)"
   ]
  },
  {
   "cell_type": "code",
   "execution_count": null,
   "metadata": {
    "collapsed": false
   },
   "outputs": [],
   "source": [
    "test = {key: top[key] for key in top.keys()[:1]}\n",
    "print test"
   ]
  },
  {
   "cell_type": "markdown",
   "metadata": {},
   "source": [
    "# Remove Stop Words"
   ]
  },
  {
   "cell_type": "code",
   "execution_count": null,
   "metadata": {
    "collapsed": false
   },
   "outputs": [],
   "source": [
    "from nltk.corpus import stopwords"
   ]
  },
  {
   "cell_type": "code",
   "execution_count": null,
   "metadata": {
    "collapsed": false
   },
   "outputs": [],
   "source": [
    "with open('pickles/fox_stoplist.pickle','rb') as handle:\n",
    "    fox_stoplist = pickle.load(handle)\n",
    "stoplist = set(fox_stoplist + stopwords.words('english'))"
   ]
  },
  {
   "cell_type": "code",
   "execution_count": null,
   "metadata": {
    "collapsed": true
   },
   "outputs": [],
   "source": [
    "def remove_stop(corpus_dict, stoplist):\n",
    "    for _, value in corpus_dict.items():\n",
    "        for i in range(len(value['comments'])):\n",
    "            value['comments'][i] = [word for word in value['comments'][i] \n",
    "                                    if word not in stoplist]\n",
    "        value['title'] = [word for word in value['title'] \n",
    "                            if word not in stoplist]\n",
    "    return corpus_dict"
   ]
  },
  {
   "cell_type": "code",
   "execution_count": null,
   "metadata": {
    "collapsed": false
   },
   "outputs": [],
   "source": [
    "contro = remove_stop(contro, stoplist)\n",
    "top = remove_stop(top, stoplist)"
   ]
  },
  {
   "cell_type": "code",
   "execution_count": null,
   "metadata": {
    "collapsed": false
   },
   "outputs": [],
   "source": [
    "print 'There are %d non-stopword occurances in the \"top\" corpus.' % counter(top)\n",
    "print 'There are %d non-stopword occurances in the \"controversial\" corpus.' % counter(contro)"
   ]
  },
  {
   "cell_type": "markdown",
   "metadata": {},
   "source": [
    "### Remove contractions not caugh before (i.e. 's, 'm, etc.)"
   ]
  },
  {
   "cell_type": "code",
   "execution_count": null,
   "metadata": {
    "collapsed": false
   },
   "outputs": [],
   "source": [
    "def remove_contractions(corpus_dict):\n",
    "    pattern = re.compile(\"\\'\\w+\")\n",
    "    for _, value in corpus_dict.items():\n",
    "        for i in range(len(value['comments'])):\n",
    "            value['comments'][i] = [word for word in value['comments'][i]\n",
    "                                   if not pattern.match(word)]\n",
    "        value['title'] = [word for word in value['title']\n",
    "                         if not pattern.match(word)]\n",
    "    return corpus_dict"
   ]
  },
  {
   "cell_type": "code",
   "execution_count": null,
   "metadata": {
    "collapsed": false
   },
   "outputs": [],
   "source": [
    "contro = remove_contractions(contro)\n",
    "top = remove_contractions(top)"
   ]
  },
  {
   "cell_type": "code",
   "execution_count": null,
   "metadata": {
    "collapsed": false
   },
   "outputs": [],
   "source": [
    "print 'There are %d non-stopword occurances in the \"top\" corpus.' % counter(top)\n",
    "print 'There are %d non-stopword occurances in the \"controversial\" corpus.' % counter(contro)"
   ]
  },
  {
   "cell_type": "code",
   "execution_count": null,
   "metadata": {
    "collapsed": false
   },
   "outputs": [],
   "source": [
    "test = {key: contro[key] for key in contro.keys()[:1]}\n",
    "print test"
   ]
  },
  {
   "cell_type": "markdown",
   "metadata": {},
   "source": [
    "# Stemming (not necessary)"
   ]
  },
  {
   "cell_type": "code",
   "execution_count": null,
   "metadata": {
    "collapsed": true
   },
   "outputs": [],
   "source": [
    "from nltk.stem.porter import *\n",
    "\n",
    "def stem_tokens(corpus_dict, stemmer):\n",
    "    for _, value in corpus_dict.items():\n",
    "        for i in range(len(value['comments'])):\n",
    "            for j in range(len(value['comments'][i])):\n",
    "                value['comments'][i][j] = stemmer.stem(value['comments'][i][j])\n",
    "        for k in range(len(value['title'])):\n",
    "            value['title'][k] = stemmer.stem(value['title'][k])\n",
    "    return corpus_dict"
   ]
  },
  {
   "cell_type": "code",
   "execution_count": null,
   "metadata": {
    "collapsed": false
   },
   "outputs": [],
   "source": [
    "stemmer = PorterStemmer()\n",
    "contro = stem_tokens(contro, stemmer)\n",
    "top = stem_tokens(top, stemmer)"
   ]
  },
  {
   "cell_type": "code",
   "execution_count": null,
   "metadata": {
    "collapsed": false
   },
   "outputs": [],
   "source": [
    "test = {key: top[key] for key in top.keys()[:1]}\n",
    "print test"
   ]
  },
  {
   "cell_type": "markdown",
   "metadata": {},
   "source": [
    "# Test Uniqueness"
   ]
  },
  {
   "cell_type": "code",
   "execution_count": null,
   "metadata": {
    "collapsed": false
   },
   "outputs": [],
   "source": [
    "# RUN TWICE: once to eliminate non unique, and twice to check the updated overlap count is 0\n",
    "\n",
    "count = 0\n",
    "for _, value_contro in contro.items():\n",
    "    for key, value_top in top.items():\n",
    "        if value_contro['title'] == value_top['title']:\n",
    "            del top[key]\n",
    "            count += 1\n",
    "print count"
   ]
  },
  {
   "cell_type": "markdown",
   "metadata": {},
   "source": [
    "# Word Frequencies"
   ]
  },
  {
   "cell_type": "code",
   "execution_count": null,
   "metadata": {
    "collapsed": false
   },
   "outputs": [],
   "source": [
    "from collections import Counter\n",
    "\n",
    "def count_words(corpus_dict):\n",
    "    count = Counter()\n",
    "    for _, value in corpus_dict.items():\n",
    "        for i in range(len(value['comments'])):\n",
    "            count.update(value['comments'][i])\n",
    "        count.update(value['title'])\n",
    "    return count"
   ]
  },
  {
   "cell_type": "code",
   "execution_count": null,
   "metadata": {
    "collapsed": false
   },
   "outputs": [],
   "source": [
    "contro_count = count_words(contro)\n",
    "top_count = count_words(top)"
   ]
  },
  {
   "cell_type": "code",
   "execution_count": null,
   "metadata": {
    "collapsed": false
   },
   "outputs": [],
   "source": [
    "# Top 20 words \n",
    "zip(top_count.most_common(20), contro_count.most_common(20))"
   ]
  },
  {
   "cell_type": "code",
   "execution_count": null,
   "metadata": {
    "collapsed": false
   },
   "outputs": [],
   "source": [
    "print len(contro_count)\n",
    "print len(top_count)"
   ]
  },
  {
   "cell_type": "markdown",
   "metadata": {},
   "source": [
    "### Remove words that appear 5 or less times (not currently working)"
   ]
  },
  {
   "cell_type": "code",
   "execution_count": null,
   "metadata": {
    "collapsed": false
   },
   "outputs": [],
   "source": [
    "top_count = {word: top_count[word] for word in top_count.keys() \n",
    "             if top_count[word] > 5}\n",
    "contro_count = {word: contro_count[word] for word in contro_count.keys() \n",
    "             if contro_count[word] > 5}\n",
    "\n",
    "print len(contro_count)\n",
    "print len(top_count)"
   ]
  },
  {
   "cell_type": "markdown",
   "metadata": {},
   "source": [
    "# Document-Term Matrix"
   ]
  },
  {
   "cell_type": "code",
   "execution_count": null,
   "metadata": {
    "collapsed": true
   },
   "outputs": [],
   "source": [
    "def make_doc(corpus_dict):\n",
    "    doc_list = []\n",
    "    for _, value in corpus_dict.items():\n",
    "        doc_list.append(value['title'])\n",
    "        for c in value['comments']:\n",
    "            doc_list.append(c)\n",
    "    return doc_list"
   ]
  },
  {
   "cell_type": "code",
   "execution_count": null,
   "metadata": {
    "collapsed": false
   },
   "outputs": [],
   "source": [
    "top_doc = make_doc(top)\n",
    "contro_doc = make_doc(contro)"
   ]
  },
  {
   "cell_type": "markdown",
   "metadata": {},
   "source": [
    "### Not used...."
   ]
  },
  {
   "cell_type": "code",
   "execution_count": null,
   "metadata": {
    "collapsed": true
   },
   "outputs": [],
   "source": [
    "def make_doc_title_only(corpus_dict):\n",
    "    doc_list = []\n",
    "    for _, value in corpus_dict.items():\n",
    "        doc_list.append(value['title'])\n",
    "    return doc_list"
   ]
  },
  {
   "cell_type": "code",
   "execution_count": null,
   "metadata": {
    "collapsed": true
   },
   "outputs": [],
   "source": [
    "top_doc_title = make_doc_title_only(top)\n",
    "contro_doc_title = make_dic_title_only(contro)"
   ]
  },
  {
   "cell_type": "markdown",
   "metadata": {},
   "source": [
    "# Part of Speech Tagging - eliminates certain parts of speech"
   ]
  },
  {
   "cell_type": "code",
   "execution_count": null,
   "metadata": {
    "collapsed": false
   },
   "outputs": [],
   "source": [
    "def pos_tag(doc):\n",
    "    pos = []\n",
    "    for d in doc:\n",
    "        pos.append(nltk.pos_tag(d))\n",
    "    return pos\n",
    "\n",
    "def eliminate_pos(pos, chosen):\n",
    "    keep_list = []\n",
    "    for d in pos:\n",
    "        keep = [word[0] for word in d if word[1] in chosen]\n",
    "        keep_list.append(keep)\n",
    "    return keep_list"
   ]
  },
  {
   "cell_type": "code",
   "execution_count": null,
   "metadata": {
    "collapsed": false
   },
   "outputs": [],
   "source": [
    "# Only include nouns, adjectives\n",
    "chosen = ['NN','NNS','NNP','NNPS']\n",
    " \n",
    "top_doc_short = eliminate_pos(pos_tag(top_doc), chosen)\n",
    "contro_doc_short = eliminate_pos(pos_tag(contro_doc), chosen)"
   ]
  },
  {
   "cell_type": "markdown",
   "metadata": {},
   "source": [
    "# Remove words that appear in more than X% of the documents"
   ]
  },
  {
   "cell_type": "code",
   "execution_count": null,
   "metadata": {
    "collapsed": true
   },
   "outputs": [],
   "source": [
    "# Create Counter for words and how many documents it appears in\n",
    "def document_word_count(doc):\n",
    "    count = Counter()\n",
    "    for d in doc:\n",
    "        count.update(set(d))\n",
    "    return count"
   ]
  },
  {
   "cell_type": "code",
   "execution_count": null,
   "metadata": {
    "collapsed": false
   },
   "outputs": [],
   "source": [
    "contro_doc_count = document_word_count(contro_doc)\n",
    "top_doc_count = document_word_count(top_doc)\n",
    "zip(top_doc_count.most_common(20), contro_doc_count.most_common(20))"
   ]
  },
  {
   "cell_type": "code",
   "execution_count": null,
   "metadata": {
    "collapsed": true
   },
   "outputs": [],
   "source": [
    "def eliminate_common_words(doc, count):\n",
    "    new_doc = []\n",
    "    for d in doc:\n",
    "        new = [word for word in d if ((count[word] / (1000.0 + 859.0)) < .10)]\n",
    "        new_doc.append(new)\n",
    "    return new_doc"
   ]
  },
  {
   "cell_type": "code",
   "execution_count": null,
   "metadata": {
    "collapsed": false
   },
   "outputs": [],
   "source": [
    "total_count = Counter()\n",
    "total_count.update(contro_doc_count)\n",
    "total_count.update(top_doc_count)\n",
    "\n",
    "contro_doc_no_common = eliminate_common_words(contro_doc, total_count)\n",
    "top_doc_no_common = eliminate_common_words(top_doc, total_count)"
   ]
  },
  {
   "cell_type": "code",
   "execution_count": null,
   "metadata": {
    "collapsed": false
   },
   "outputs": [],
   "source": [
    "contro_doc_count_no_common = document_word_count(contro_doc_no_common)\n",
    "top_doc_count_no_common = document_word_count(top_doc_no_common)\n",
    "zip(top_doc_count_no_common.most_common(20), contro_doc_count_no_common.most_common(20))"
   ]
  },
  {
   "cell_type": "markdown",
   "metadata": {},
   "source": [
    "# Topic Modeling"
   ]
  },
  {
   "cell_type": "markdown",
   "metadata": {},
   "source": [
    "## LDA"
   ]
  },
  {
   "cell_type": "code",
   "execution_count": null,
   "metadata": {
    "collapsed": false
   },
   "outputs": [],
   "source": [
    "from gensim import corpora, models\n",
    "\n",
    "def make_corpus(doc):\n",
    "    dictionary = corpora.Dictionary(doc)\n",
    "    corpus = [dictionary.doc2bow(text) for text in doc]\n",
    "    return corpus, dictionary"
   ]
  },
  {
   "cell_type": "markdown",
   "metadata": {},
   "source": [
    "### Train LDA model on entire corpus"
   ]
  },
  {
   "cell_type": "code",
   "execution_count": null,
   "metadata": {
    "collapsed": false
   },
   "outputs": [],
   "source": [
    "# Combine top and controversial documents into one\n",
    "total_doc = top_doc_no_common + contro_doc_no_common\n",
    "corpus_total, dict_total = make_corpus(total_doc)"
   ]
  },
  {
   "cell_type": "code",
   "execution_count": null,
   "metadata": {
    "collapsed": false
   },
   "outputs": [],
   "source": [
    "LDA_model_total = models.ldamodel.LdaModel(corpus_total, num_topics=15, \n",
    "                                           id2word = dict_total, passes=10)"
   ]
  },
  {
   "cell_type": "code",
   "execution_count": null,
   "metadata": {
    "collapsed": false
   },
   "outputs": [],
   "source": [
    "print LDA_model_total.print_topics(num_topics=15, num_words=4)"
   ]
  },
  {
   "cell_type": "markdown",
   "metadata": {},
   "source": [
    "### Look at categorization based on topics"
   ]
  },
  {
   "cell_type": "code",
   "execution_count": null,
   "metadata": {
    "collapsed": true
   },
   "outputs": [],
   "source": [
    "def assign_topic(lda, documents, corpus, dictionary):\n",
    "    topics = []\n",
    "    for doc in documents:\n",
    "        query = dictionary.doc2bow(doc)\n",
    "        print query\n",
    "        topic_dist = lda.get_document_topics(query)\n",
    "        sort = sorted(topic_dist, key=lambda x: x[1], reverse=True)\n",
    "        try:\n",
    "            topics.append(sort[0][0])\n",
    "        except:\n",
    "            continue\n",
    "    return topics"
   ]
  },
  {
   "cell_type": "code",
   "execution_count": null,
   "metadata": {
    "collapsed": false
   },
   "outputs": [],
   "source": [
    "import matplotlib.pyplot as plt\n",
    "%matplotlib inline\n",
    "\n",
    "topics_given_top = assign_topic(LDA_model_total, top_doc_no_common, \n",
    "                                corpus_total, dict_total)\n",
    "topics_given_contro = assign_topic(LDA_model_total, contro_doc_no_common, \n",
    "                                corpus_total, dict_total)\n",
    "\n",
    "topic_count_top = Counter(topics_given_top)\n",
    "topic_count_contro = Counter(topics_given_contro)\n",
    "\n",
    "y_top = [(topic_count_top[topic] / float(len(topics_given_top))) for topic in topic_count_top.keys()]\n",
    "y_contro = [(topic_count_contro[topic] / float(len(topics_given_contro))) for topic in topic_count_contro.keys()]\n",
    "xs = np.arange(0,len(y_top))\n",
    "\n",
    "plt.figure(figsize=(20,7))\n",
    "plt.bar(xs, y_top, 0.35, label = 'top', color='b')\n",
    "plt.bar(xs + 0.35, y_contro, 0.35, label = 'controversial', color='r')\n",
    "plt.xlabel('Topic')\n",
    "plt.ylabel('Percent of Posts')\n",
    "plt.xticks(xs + 0.4,xs)\n",
    "plt.legend()\n",
    "plt.xlim(0,len(y_top))\n",
    "\n",
    "print 'Total variance: ', round(sum(np.array(y_top) - np.array(y_contro)),20)"
   ]
  },
  {
   "cell_type": "code",
   "execution_count": null,
   "metadata": {
    "collapsed": true
   },
   "outputs": [],
   "source": []
  },
  {
   "cell_type": "code",
   "execution_count": null,
   "metadata": {
    "collapsed": true
   },
   "outputs": [],
   "source": []
  },
  {
   "cell_type": "code",
   "execution_count": null,
   "metadata": {
    "collapsed": true
   },
   "outputs": [],
   "source": []
  },
  {
   "cell_type": "code",
   "execution_count": null,
   "metadata": {
    "collapsed": true
   },
   "outputs": [],
   "source": []
  },
  {
   "cell_type": "code",
   "execution_count": null,
   "metadata": {
    "collapsed": true
   },
   "outputs": [],
   "source": []
  },
  {
   "cell_type": "code",
   "execution_count": null,
   "metadata": {
    "collapsed": false
   },
   "outputs": [],
   "source": [
    "print LDA_model_top.print_topics(num_topics=10, num_words=4)"
   ]
  },
  {
   "cell_type": "code",
   "execution_count": null,
   "metadata": {
    "collapsed": true
   },
   "outputs": [],
   "source": [
    "LDA_model_contro = models.ldamodel.LdaModel(corpus_contro, num_topics=20, \n",
    "                                     id2word = dict_contro)"
   ]
  },
  {
   "cell_type": "code",
   "execution_count": null,
   "metadata": {
    "collapsed": false
   },
   "outputs": [],
   "source": [
    "print LDA_model_contro.print_topics(num_topics=10, num_words=4)"
   ]
  },
  {
   "cell_type": "markdown",
   "metadata": {},
   "source": [
    "## Find Optimal Topic Number"
   ]
  },
  {
   "cell_type": "code",
   "execution_count": null,
   "metadata": {
    "collapsed": true
   },
   "outputs": [],
   "source": [
    "# Use sigma?"
   ]
  },
  {
   "cell_type": "markdown",
   "metadata": {},
   "source": [
    "# Named Entity Recognition"
   ]
  },
  {
   "cell_type": "code",
   "execution_count": null,
   "metadata": {
    "collapsed": false
   },
   "outputs": [],
   "source": [
    "from nltk.tag import StanfordNERTagger\n",
    "\n",
    "path = '~/Downloads/stanford-ner-2015-12-09/classifiers/'\n",
    "st = StanfordNERTagger(path+'english.muc.7class.distsim.crf.ser.gz')\n",
    "st.tag('Rami Eid is studying at Stony Brook University in NY'.split())"
   ]
  },
  {
   "cell_type": "markdown",
   "metadata": {},
   "source": [
    "# Create TFIDF Vector"
   ]
  },
  {
   "cell_type": "code",
   "execution_count": null,
   "metadata": {
    "collapsed": true
   },
   "outputs": [],
   "source": [
    "client = MongoClient('localhost', 27017)\n",
    "db = client.reddit_database\n",
    "collection_top = db.reddit_top\n",
    "collection_contro = db.reddit_contro"
   ]
  },
  {
   "cell_type": "code",
   "execution_count": null,
   "metadata": {
    "collapsed": false
   },
   "outputs": [],
   "source": [
    "collection_contro.count()"
   ]
  },
  {
   "cell_type": "code",
   "execution_count": null,
   "metadata": {
    "collapsed": true
   },
   "outputs": [],
   "source": [
    "# Create list of comments from 'controversial' submissions\n",
    "def create_docs(collection, how):\n",
    "    docs = []\n",
    "    for d in collection.find():\n",
    "        if how == 'sep':\n",
    "            docs.append(clean_text(d['title']))\n",
    "            comments_only = [clean_text(x[0]) for x in d['comments']]\n",
    "            docs.extend(comments_only)\n",
    "        else:\n",
    "            title = clean_text(d['title'])\n",
    "            comments = ' '\n",
    "            for c in d['comments']:\n",
    "                comments = comments + ' ' + clean_text(c[0])\n",
    "            docs.append(title + comments)\n",
    "    return docs"
   ]
  },
  {
   "cell_type": "code",
   "execution_count": null,
   "metadata": {
    "collapsed": false
   },
   "outputs": [],
   "source": [
    "contro_tfidf = create_docs(collection_contro, how ='together')\n",
    "top_tfidf = create_docs(collection_top, how ='together')"
   ]
  },
  {
   "cell_type": "markdown",
   "metadata": {},
   "source": [
    "### Get rid of posts in both document lists"
   ]
  },
  {
   "cell_type": "code",
   "execution_count": null,
   "metadata": {
    "collapsed": true
   },
   "outputs": [],
   "source": [
    "# RUN TWICE\n",
    "count = 0\n",
    "for c in contro_tfidf:\n",
    "    for t in top_tfidf:\n",
    "        if c == t:\n",
    "            count += 1\n",
    "            top_tfidf.remove(t)\n",
    "print count"
   ]
  },
  {
   "cell_type": "code",
   "execution_count": null,
   "metadata": {
    "collapsed": false
   },
   "outputs": [],
   "source": [
    "len(top_tfidf)"
   ]
  },
  {
   "cell_type": "markdown",
   "metadata": {},
   "source": [
    "# LDA with Count / TFIDF Vectorizer"
   ]
  },
  {
   "cell_type": "code",
   "execution_count": null,
   "metadata": {
    "collapsed": false
   },
   "outputs": [],
   "source": [
    "from sklearn.feature_extraction.text import TfidfVectorizer\n",
    "\n",
    "tfidf_vectorizer = TfidfVectorizer(analyzer='word', ngram_range=(1, 2),\n",
    "                                   lowercase = True,\n",
    "                                   stop_words='english',\n",
    "                                   token_pattern='\\\\b[a-z][a-z]+\\\\b',\n",
    "                                   max_df=0.02, min_df=2)\n",
    "dtm_tfidf = tfidf_vectorizer.fit_transform((top_tfidf + contro_tfidf)).transpose()"
   ]
  },
  {
   "cell_type": "code",
   "execution_count": null,
   "metadata": {
    "collapsed": false
   },
   "outputs": [],
   "source": [
    "dtm_tfidf.shape   # Num doc x num features / terms"
   ]
  },
  {
   "cell_type": "code",
   "execution_count": null,
   "metadata": {
    "collapsed": true
   },
   "outputs": [],
   "source": [
    "from sklearn.feature_extraction.text import CountVectorizer\n",
    "\n",
    "count_vectorizer = CountVectorizer(analyzer='word', ngram_range=(1, 1),\n",
    "                                   stop_words='english',\n",
    "                                   token_pattern='\\\\b[a-z][a-z]+\\\\b',\n",
    "                                   max_df=0.05, min_df=2)\n",
    "dtm_count = count_vectorizer.fit_transform((top_tfidf + contro_tfidf)).transpose()"
   ]
  },
  {
   "cell_type": "code",
   "execution_count": null,
   "metadata": {
    "collapsed": false
   },
   "outputs": [],
   "source": [
    "dtm_count.shape"
   ]
  },
  {
   "cell_type": "code",
   "execution_count": null,
   "metadata": {
    "collapsed": false
   },
   "outputs": [],
   "source": [
    "corpus = gensim.matutils.Sparse2Corpus(dtm_tfidf)"
   ]
  },
  {
   "cell_type": "code",
   "execution_count": null,
   "metadata": {
    "collapsed": true
   },
   "outputs": [],
   "source": [
    "# id2word = dict((v, k) for k, v in count_vectorizer.vocabulary_.iteritems())\n",
    "id2word = {}\n",
    "for i,val in enumerate(tfidf_vectorizer.get_feature_names()):\n",
    "    id2word[i] = val\n",
    "#print id2word"
   ]
  },
  {
   "cell_type": "code",
   "execution_count": null,
   "metadata": {
    "collapsed": false
   },
   "outputs": [],
   "source": [
    "lda = models.LdaModel(corpus, id2word=id2word, num_topics=90, passes=1)"
   ]
  },
  {
   "cell_type": "code",
   "execution_count": null,
   "metadata": {
    "collapsed": false
   },
   "outputs": [],
   "source": [
    "lda.print_topics(num_words=6, num_topics=90)"
   ]
  },
  {
   "cell_type": "code",
   "execution_count": null,
   "metadata": {
    "collapsed": true
   },
   "outputs": [],
   "source": [
    "lda_corpus = lda[corpus]"
   ]
  },
  {
   "cell_type": "code",
   "execution_count": null,
   "metadata": {
    "collapsed": true
   },
   "outputs": [],
   "source": [
    "lda_docs = [doc for doc in lda_corpus]"
   ]
  },
  {
   "cell_type": "code",
   "execution_count": null,
   "metadata": {
    "collapsed": false
   },
   "outputs": [],
   "source": [
    "def assign_topic_id2word(lda_docs):\n",
    "    topics = []\n",
    "    for prob_list in lda_docs:\n",
    "        sort = sorted(prob_list, key=lambda x: x[1], reverse=True)\n",
    "        topics.append(sort[0][0])\n",
    "    return topics"
   ]
  },
  {
   "cell_type": "code",
   "execution_count": null,
   "metadata": {
    "collapsed": false
   },
   "outputs": [],
   "source": [
    "import matplotlib.pyplot as plt\n",
    "%matplotlib inline\n",
    "\n",
    "topics_top = assign_topic_id2word(lda_docs[:len(top_tfidf)])\n",
    "topics_contro = assign_topic_id2word(lda_docs[len(top_tfidf):])\n",
    "\n",
    "topic_count_top2 = Counter(topics_top)\n",
    "topic_count_contro2 = Counter(topics_contro)\n",
    "\n",
    "y_top2 = [(topic_count_top2[topic] / float(len(topics_top))) for topic in topic_count_top2.keys()]\n",
    "y_contro2 = [(topic_count_contro2[topic] / float(len(topics_contro))) for topic in topic_count_contro2.keys()]\n",
    "xs = np.arange(0,len(y_top2))\n",
    "\n",
    "plt.figure(figsize=(20,7))\n",
    "plt.bar(xs, y_top2, 0.35, label = 'top', color='b')\n",
    "plt.bar(xs + 0.35, y_contro2, 0.35, label = 'controversial', color='r')\n",
    "plt.xlabel('Topic')\n",
    "plt.ylabel('Percent of Posts')\n",
    "plt.xticks(xs + 0.4,xs)\n",
    "plt.legend()\n",
    "plt.xlim(0,len(y_top2))\n",
    "\n",
    "print 'Total variance: ', round(sum(np.array(y_top2) - np.array(y_contro2)),20)"
   ]
  },
  {
   "cell_type": "code",
   "execution_count": null,
   "metadata": {
    "collapsed": true
   },
   "outputs": [],
   "source": []
  }
 ],
 "metadata": {
  "kernelspec": {
   "display_name": "Python 2",
   "language": "python",
   "name": "python2"
  },
  "language_info": {
   "codemirror_mode": {
    "name": "ipython",
    "version": 2
   },
   "file_extension": ".py",
   "mimetype": "text/x-python",
   "name": "python",
   "nbconvert_exporter": "python",
   "pygments_lexer": "ipython2",
   "version": "2.7.11"
  }
 },
 "nbformat": 4,
 "nbformat_minor": 0
}
