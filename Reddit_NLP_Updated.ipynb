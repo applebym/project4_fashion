{
 "cells": [
  {
   "cell_type": "code",
   "execution_count": 8,
   "metadata": {
    "collapsed": true
   },
   "outputs": [],
   "source": [
    "import re\n",
    "import string\n",
    "\n",
    "\n",
    "def clean_text(text):\n",
    "    # Remove unicode characters\n",
    "    text = re.sub('[^\\x00-\\x7F]+', '', text)\n",
    "    # Convert to python ASCII string\n",
    "    text = str(text.encode('ascii'))\n",
    "    # Convert to lowercase\n",
    "    text = text.lower()\n",
    "    # Remove new line characters\n",
    "    text = text.replace('\\n',' ')\n",
    "    # Remove links\n",
    "    text = re.sub('http\\S+', '', text)\n",
    "    # Remove punctuation \n",
    "    to_remove = string.punctuation.replace(\"'\",'')\n",
    "    text = re.sub('['+to_remove+']+', '', text)\n",
    "    # Remove numbers\n",
    "    text = re.sub('\\d', '', text)\n",
    "    return text\n",
    "        \n",
    "\n",
    "def clean_dictionary(dictionary):\n",
    "    for _, value in dictionary.items():\n",
    "        value['title'] = clean_text(value['title'])\n",
    "        comments = value['comments']\n",
    "        for i in range(len(comments)):\n",
    "             comments[i] = clean_text(comments[i])\n",
    "        value['comments'] = comments\n",
    "    return dictionary\n",
    "\n",
    "def pos_tag(doc):\n",
    "    pos = []\n",
    "    for d in doc:\n",
    "        pos.append(nltk.pos_tag(d))\n",
    "    return pos\n",
    "\n",
    "\n",
    "def eliminate_pos(pos, chosen):\n",
    "    keep_list = []\n",
    "    for d in pos:\n",
    "        keep = [word[0] for word in d if word[1] in chosen]\n",
    "        keep_list.append(keep)\n",
    "    return keep_list"
   ]
  },
  {
   "cell_type": "code",
   "execution_count": null,
   "metadata": {
    "collapsed": false
   },
   "outputs": [],
   "source": [
    "# Only include nouns, adjectives\n",
    "chosen = ['NN','NNS','NNP','NNPS']\n",
    " \n",
    "top_doc_short = eliminate_pos(pos_tag(top_doc), chosen)\n",
    "contro_doc_short = eliminate_pos(pos_tag(contro_doc), chosen)"
   ]
  },
  {
   "cell_type": "markdown",
   "metadata": {},
   "source": [
    "# Retrieve data from MongoDB"
   ]
  },
  {
   "cell_type": "code",
   "execution_count": 57,
   "metadata": {
    "collapsed": false
   },
   "outputs": [],
   "source": [
    "import pymongo\n",
    "from pymongo import MongoClient\n",
    "\n",
    "client = MongoClient('localhost', 27017)\n",
    "db = client.reddit_database\n",
    "collection_top = db.reddit_top\n",
    "collection_contro = db.reddit_contro"
   ]
  },
  {
   "cell_type": "code",
   "execution_count": 58,
   "metadata": {
    "collapsed": false
   },
   "outputs": [
    {
     "data": {
      "text/plain": [
       "1030"
      ]
     },
     "execution_count": 58,
     "metadata": {},
     "output_type": "execute_result"
    }
   ],
   "source": [
    "collection_top.count()"
   ]
  },
  {
   "cell_type": "code",
   "execution_count": 59,
   "metadata": {
    "collapsed": true
   },
   "outputs": [],
   "source": [
    "# Create list of comments from 'controversial' submissions\n",
    "def create_docs(collection, how):\n",
    "    docs = []\n",
    "    for d in collection.find():\n",
    "        if how == 'sep':\n",
    "            docs.append(clean_text(d['title']))\n",
    "            comments_only = [clean_text(x[0]) for x in d['comments']]\n",
    "            docs.extend(comments_only)\n",
    "        else:\n",
    "            title = clean_text(d['title'])\n",
    "            comments = ' '\n",
    "            for c in d['comments']:\n",
    "                comments = comments + ' ' + clean_text(c[0])\n",
    "            docs.append(title + comments)\n",
    "    return docs"
   ]
  },
  {
   "cell_type": "code",
   "execution_count": 92,
   "metadata": {
    "collapsed": false
   },
   "outputs": [],
   "source": [
    "contro_tfidf = create_docs(collection_contro, how ='together')\n",
    "top_tfidf = create_docs(collection_top, how ='together')"
   ]
  },
  {
   "cell_type": "markdown",
   "metadata": {},
   "source": [
    "### Get rid of posts in both document lists"
   ]
  },
  {
   "cell_type": "code",
   "execution_count": 93,
   "metadata": {
    "collapsed": false
   },
   "outputs": [
    {
     "name": "stdout",
     "output_type": "stream",
     "text": [
      "40\n"
     ]
    }
   ],
   "source": [
    "# RUN TWICE\n",
    "count = 0\n",
    "for c in contro_tfidf:\n",
    "    for t in top_tfidf:\n",
    "        if c == t:\n",
    "            count += 1\n",
    "            top_tfidf.remove(t)\n",
    "print count"
   ]
  },
  {
   "cell_type": "markdown",
   "metadata": {},
   "source": [
    "# LDA with Count / TFIDF Vectorizer"
   ]
  },
  {
   "cell_type": "code",
   "execution_count": null,
   "metadata": {
    "collapsed": true
   },
   "outputs": [],
   "source": [
    "# from sklearn.feature_extraction.text import CountVectorizer\n",
    "\n",
    "# count_vectorizer = CountVectorizer(analyzer='word', ngram_range=(1, 1),\n",
    "#                                    stop_words='english',\n",
    "#                                    token_pattern='\\\\b[a-z][a-z]+\\\\b',\n",
    "#                                    max_df=0.05, min_df=2)\n",
    "# dtm_count = count_vectorizer.fit_transform((top_tfidf + contro_tfidf)).transpose()"
   ]
  },
  {
   "cell_type": "code",
   "execution_count": 131,
   "metadata": {
    "collapsed": false
   },
   "outputs": [],
   "source": [
    "from sklearn.feature_extraction.text import TfidfVectorizer\n",
    "\n",
    "tfidf_vectorizer = TfidfVectorizer(analyzer='word', ngram_range=(1, 2),\n",
    "                                   lowercase = True,\n",
    "                                   stop_words='english',\n",
    "                                   token_pattern='\\\\b[a-z][a-z]+\\\\b',\n",
    "                                   max_df=0.3, min_df=2)\n",
    "dtm_tfidf = tfidf_vectorizer.fit_transform((top_tfidf + contro_tfidf)).transpose()"
   ]
  },
  {
   "cell_type": "code",
   "execution_count": 132,
   "metadata": {
    "collapsed": false
   },
   "outputs": [
    {
     "data": {
      "text/plain": [
       "(22847, 2017)"
      ]
     },
     "execution_count": 132,
     "metadata": {},
     "output_type": "execute_result"
    }
   ],
   "source": [
    "dtm_tfidf.shape   # Num doc x num features / terms"
   ]
  },
  {
   "cell_type": "code",
   "execution_count": 133,
   "metadata": {
    "collapsed": false
   },
   "outputs": [],
   "source": [
    "import gensim\n",
    "from gensim import models\n",
    "\n",
    "corpus = gensim.matutils.Sparse2Corpus(dtm_tfidf)"
   ]
  },
  {
   "cell_type": "code",
   "execution_count": 134,
   "metadata": {
    "collapsed": true
   },
   "outputs": [],
   "source": [
    "# id2word = dict((v, k) for k, v in count_vectorizer.vocabulary_.iteritems())\n",
    "id2word = {}\n",
    "for i,val in enumerate(tfidf_vectorizer.get_feature_names()):\n",
    "    id2word[i] = val\n",
    "#print id2word"
   ]
  },
  {
   "cell_type": "code",
   "execution_count": 142,
   "metadata": {
    "collapsed": false
   },
   "outputs": [],
   "source": [
    "lda = models.LdaModel(corpus, id2word=id2word, num_topics=30, passes=1)"
   ]
  },
  {
   "cell_type": "code",
   "execution_count": 143,
   "metadata": {
    "collapsed": false
   },
   "outputs": [
    {
     "data": {
      "text/plain": [
       "[(0, u'0.035*party + 0.013*speak + 0.010*concern + 0.010*eh'),\n",
       " (1, u'0.032*polish + 0.009*coitus + 0.009*tutorial + 0.008*tasks'),\n",
       " (2, u'0.000*job + 0.000*question + 0.000*going + 0.000*cat'),\n",
       " (3, u'0.020*wake + 0.014*boyfriend + 0.014*separate + 0.012*sleep'),\n",
       " (4, u'0.034*gag + 0.029*watermark + 0.021*gym + 0.016*gagcom'),\n",
       " (5, u'0.013*grandparents + 0.012*comedies + 0.012*quilts + 0.012*wedding'),\n",
       " (6, u'0.048*cheating + 0.016*sausage + 0.013*cheap + 0.012*role'),\n",
       " (7, u'0.018*earlier + 0.015*tv + 0.011*retarded + 0.006*anal'),\n",
       " (8, u'0.016*maneuver + 0.013*reposted + 0.011*bob + 0.010*sucks'),\n",
       " (9, u'0.010*sanitation + 0.000*water + 0.000*man + 0.000*dog'),\n",
       " (10, u'0.010*workforce + 0.001*looks + 0.000*work + 0.000*morning'),\n",
       " (11, u'0.028*london + 0.021*generally + 0.008*tang + 0.003*cupcake'),\n",
       " (12, u'0.024*intercept + 0.021*aircraft + 0.020*british + 0.017*chinese'),\n",
       " (13, u'0.028*pigeon + 0.010*condoms + 0.007*flock + 0.007*trafalgar'),\n",
       " (14, u'0.027*photograph + 0.011*gentleman + 0.008*seminal + 0.007*frontal'),\n",
       " (15, u'0.040*dave + 0.027*knock + 0.012*rantijokes + 0.012*fat'),\n",
       " (16, u'0.034*sheets + 0.010*tape + 0.006*asshole + 0.006*weeks'),\n",
       " (17, u'0.019*effective + 0.013*na + 0.008*butt + 0.006*error'),\n",
       " (18, u'0.025*wiener + 0.013*originated + 0.012*rtitlegore + 0.009*program'),\n",
       " (19, u'0.028*gladiators + 0.015*radio + 0.014*spinoff + 0.014*olds'),\n",
       " (20, u'0.001*dog + 0.000*baby + 0.000*little + 0.000*pencil'),\n",
       " (21, u'0.034*nightclub + 0.014*couple + 0.010*course + 0.005*limit'),\n",
       " (22, u'0.041*stars + 0.022*era + 0.009*day + 0.008*looked'),\n",
       " (23, u'0.019*booty + 0.013*gorgeous + 0.010*cat + 0.008*ass'),\n",
       " (24, u'0.018*danish + 0.013*marketing + 0.013*shape + 0.011*lower'),\n",
       " (25, u'0.000*looks + 0.000*triggered + 0.000*rfunny + 0.000*human'),\n",
       " (26, u'0.018*danzig + 0.013*rage + 0.011*metal + 0.011*album'),\n",
       " (27, u'0.015*roll + 0.015*effectiveness + 0.009*lube + 0.006*mouth'),\n",
       " (28, u'0.051*pokemon + 0.044*eurovision + 0.030*days + 0.013*models'),\n",
       " (29, u'0.013*grandfather + 0.012*bed + 0.009*silk + 0.006*hot')]"
      ]
     },
     "execution_count": 143,
     "metadata": {},
     "output_type": "execute_result"
    }
   ],
   "source": [
    "lda.print_topics(num_words=4, num_topics=30)"
   ]
  },
  {
   "cell_type": "code",
   "execution_count": 144,
   "metadata": {
    "collapsed": true
   },
   "outputs": [],
   "source": [
    "lda_corpus = lda[corpus]"
   ]
  },
  {
   "cell_type": "code",
   "execution_count": 145,
   "metadata": {
    "collapsed": true
   },
   "outputs": [],
   "source": [
    "lda_docs = [doc for doc in lda_corpus]"
   ]
  },
  {
   "cell_type": "code",
   "execution_count": 146,
   "metadata": {
    "collapsed": false
   },
   "outputs": [],
   "source": [
    "def assign_topic_id2word(lda_docs):\n",
    "    topics = []\n",
    "    for prob_list in lda_docs:\n",
    "        sort = sorted(prob_list, key=lambda x: x[1], reverse=True)\n",
    "        topics.append(sort[0][0])\n",
    "    return topics"
   ]
  },
  {
   "cell_type": "code",
   "execution_count": 147,
   "metadata": {
    "collapsed": false
   },
   "outputs": [
    {
     "name": "stdout",
     "output_type": "stream",
     "text": [
      "Total variance:  -2.082e-17\n"
     ]
    },
    {
     "data": {
      "image/png": "[encoded data removed]",
      "text/plain": [
       "<matplotlib.figure.Figure at 0x10225b2d0>"
      ]
     },
     "metadata": {},
     "output_type": "display_data"
    }
   ],
   "source": [
    "import matplotlib.pyplot as plt\n",
    "from collections import Counter\n",
    "import numpy as np\n",
    "%matplotlib inline\n",
    "\n",
    "topics_top = assign_topic_id2word(lda_docs[:len(top_tfidf)])\n",
    "topics_contro = assign_topic_id2word(lda_docs[len(top_tfidf):])\n",
    "\n",
    "topic_count_top2 = Counter(topics_top)\n",
    "topic_count_contro2 = Counter(topics_contro)\n",
    "\n",
    "y_top2 = [(topic_count_top2[topic] / float(len(topics_top))) for topic in topic_count_top2.keys()]\n",
    "y_contro2 = [(topic_count_contro2[topic] / float(len(topics_contro))) for topic in topic_count_contro2.keys()]\n",
    "xs = np.arange(0,len(y_top2))\n",
    "\n",
    "plt.figure(figsize=(20,7))\n",
    "plt.bar(xs, y_top2, 0.35, label = 'top', color='b')\n",
    "plt.bar(xs + 0.35, y_contro2, 0.35, label = 'controversial', color='r')\n",
    "plt.xlabel('Topic')\n",
    "plt.ylabel('Percent of Posts')\n",
    "plt.xticks(xs + 0.4,xs)\n",
    "plt.legend()\n",
    "plt.xlim(0,len(y_top2))\n",
    "\n",
    "print 'Total variance: ', round(sum(np.array(y_top2) - np.array(y_contro2)),20)"
   ]
  },
  {
   "cell_type": "markdown",
   "metadata": {
    "collapsed": true
   },
   "source": [
    "# NMF"
   ]
  },
  {
   "cell_type": "code",
   "execution_count": 157,
   "metadata": {
    "collapsed": true
   },
   "outputs": [],
   "source": [
    "from sklearn.decomposition import NMF\n",
    "from sklearn.feature_extraction.text import TfidfVectorizer\n",
    "\n",
    "tfidf_vectorizer = TfidfVectorizer(analyzer='word', ngram_range=(1, 2),\n",
    "                                   lowercase = True,\n",
    "                                   stop_words='english',\n",
    "                                   token_pattern='\\\\b[a-z][a-z]+\\\\b',\n",
    "                                   max_df=0.3, min_df=2)\n",
    "dtm_tfidf = tfidf_vectorizer.fit_transform((top_tfidf + contro_tfidf))"
   ]
  },
  {
   "cell_type": "code",
   "execution_count": 158,
   "metadata": {
    "collapsed": false
   },
   "outputs": [],
   "source": [
    "model = NMF(n_components = 20)\n",
    "nmf = model.fit(dtm_tfidf)"
   ]
  },
  {
   "cell_type": "code",
   "execution_count": 159,
   "metadata": {
    "collapsed": false
   },
   "outputs": [
    {
     "name": "stdout",
     "output_type": "stream",
     "text": [
      "Topic #0:\n",
      "money pay work make job\n",
      "Topic #1:\n",
      "direct link direct link link exist link image\n",
      "Topic #2:\n",
      "looks looks like look nice picture\n",
      "Topic #3:\n",
      "game games play played pc\n",
      "Topic #4:\n",
      "movie film trailer movies ghostbusters\n",
      "Topic #5:\n",
      "feedback bot original reduced tldr make best tldr\n",
      "Topic #6:\n",
      "cat cats cute kitty ocelot\n",
      "Topic #7:\n",
      "dog dogs puppy cute pup\n",
      "Topic #8:\n",
      "baby horny cute poor baby new baby\n",
      "Topic #9:\n",
      "press channel hydraulic press hydraulic press channel\n",
      "Topic #10:\n",
      "song album music love rock\n",
      "Topic #11:\n",
      "comments tag parent removed posts\n",
      "Topic #12:\n",
      "cake happy day cakes eat\n",
      "Topic #13:\n",
      "eat food chicken vegan vegans\n",
      "Topic #14:\n",
      "climate climate change moon change earth\n",
      "Topic #15:\n",
      "women men gay sex male\n",
      "Topic #16:\n",
      "cancer hiv johnson aids magic johnson\n",
      "Topic #17:\n",
      "books book read reading series\n",
      "Topic #18:\n",
      "car drive cars driving waited\n",
      "Topic #19:\n",
      "day did life got said\n"
     ]
    }
   ],
   "source": [
    "def print_top_words(model, feature_names, n_top_words):\n",
    "    for topic_idx, topic in enumerate(model.components_):\n",
    "        print(\"Topic #%d:\" % topic_idx)\n",
    "        print(\" \".join([feature_names[i]\n",
    "                        for i in topic.argsort()[:-n_top_words - 1:-1]]))\n",
    "\n",
    "print_top_words(nmf, tfidf_vectorizer.get_feature_names(), 5)"
   ]
  },
  {
   "cell_type": "code",
   "execution_count": null,
   "metadata": {
    "collapsed": true
   },
   "outputs": [],
   "source": []
  }
 ],
 "metadata": {
  "kernelspec": {
   "display_name": "Python 2",
   "language": "python",
   "name": "python2"
  },
  "language_info": {
   "codemirror_mode": {
    "name": "ipython",
    "version": 2
   },
   "file_extension": ".py",
   "mimetype": "text/x-python",
   "name": "python",
   "nbconvert_exporter": "python",
   "pygments_lexer": "ipython2",
   "version": "2.7.11"
  }
 },
 "nbformat": 4,
 "nbformat_minor": 0
}
