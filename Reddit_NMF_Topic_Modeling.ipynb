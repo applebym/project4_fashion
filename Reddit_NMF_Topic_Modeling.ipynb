{
 "cells": [
  {
   "cell_type": "code",
   "execution_count": 2,
   "metadata": {
    "collapsed": true
   },
   "outputs": [],
   "source": [
    "import re\n",
    "import string\n",
    "\n",
    "\n",
    "def clean_text(text):\n",
    "    # Remove unicode characters\n",
    "    text = re.sub('[^\\x00-\\x7F]+', '', text)\n",
    "    # Convert to python ASCII string\n",
    "    text = str(text.encode('ascii'))\n",
    "    # Convert to lowercase\n",
    "    text = text.lower()\n",
    "    # Remove new line characters\n",
    "    text = text.replace('\\n',' ')\n",
    "    # Remove links\n",
    "    text = re.sub('http\\S+', '', text)\n",
    "    # Remove punctuation \n",
    "    to_remove = string.punctuation.replace(\"'\",'')\n",
    "    text = re.sub('['+to_remove+']+', '', text)\n",
    "    # Remove numbers\n",
    "    text = re.sub('\\d', '', text)\n",
    "    return text\n",
    "        \n",
    "\n",
    "def clean_dictionary(dictionary):\n",
    "    for _, value in dictionary.items():\n",
    "        value['title'] = clean_text(value['title'])\n",
    "        comments = value['comments']\n",
    "        for i in range(len(comments)):\n",
    "             comments[i] = clean_text(comments[i])\n",
    "        value['comments'] = comments\n",
    "    return dictionary\n",
    "\n",
    "def pos_tag(doc):\n",
    "    pos = []\n",
    "    for d in doc:\n",
    "        pos.append(nltk.pos_tag(d))\n",
    "    return pos\n",
    "\n",
    "\n",
    "def eliminate_pos(pos, chosen):\n",
    "    keep_list = []\n",
    "    for d in pos:\n",
    "        keep = [word[0] for word in d if word[1] in chosen]\n",
    "        keep_list.append(keep)\n",
    "    return keep_list"
   ]
  },
  {
   "cell_type": "markdown",
   "metadata": {},
   "source": [
    "# Retrieve data from MongoDB"
   ]
  },
  {
   "cell_type": "code",
   "execution_count": 166,
   "metadata": {
    "collapsed": false
   },
   "outputs": [],
   "source": [
    "import pymongo\n",
    "from pymongo import MongoClient\n",
    "\n",
    "client = MongoClient('localhost', 27017)\n",
    "db = client.reddit_database\n",
    "collection_top = db.reddit_top\n",
    "collection_contro = db.reddit_contro"
   ]
  },
  {
   "cell_type": "code",
   "execution_count": 167,
   "metadata": {
    "collapsed": false
   },
   "outputs": [
    {
     "data": {
      "text/plain": [
       "2000"
      ]
     },
     "execution_count": 167,
     "metadata": {},
     "output_type": "execute_result"
    }
   ],
   "source": [
    "collection_contro.count()"
   ]
  },
  {
   "cell_type": "code",
   "execution_count": 178,
   "metadata": {
    "collapsed": true
   },
   "outputs": [],
   "source": [
    "def stem(string):\n",
    "    words = string.split()\n",
    "    stemmed = []\n",
    "    for word in words:\n",
    "        stemmed.append(PorterStemmer().stem(word))\n",
    "    return ' '.join(stemmed)\n",
    "\n",
    "\n",
    "def create_docs(collection, how, to_stem=False):\n",
    "    docs = []\n",
    "    for d in collection.find():\n",
    "        if how == 'sep':\n",
    "            if to_stem:\n",
    "                docs.append(stem(clean_text(d['title'])))\n",
    "            else:\n",
    "                docs.append(clean_text(d['title']))\n",
    "            if to_stem:\n",
    "                comments_only = [stem(clean_text(x[0])) for x in d['comments']]\n",
    "            else:\n",
    "                comments_only = [clean_text(x[0]) for x in d['comments']]\n",
    "            docs.extend(comments_only)\n",
    "        else:\n",
    "            if to_stem:\n",
    "                title = stem(title)\n",
    "            else:\n",
    "                title = clean_text(d['title'])\n",
    "            comments = ' '\n",
    "            for c in d['comments']:\n",
    "                if to_stem:\n",
    "                    comments = comments + ' ' + stem(clean_text(c[0]))\n",
    "                else:\n",
    "                    comments = comments + ' ' + clean_text(c[0])\n",
    "            docs.append(title + comments)\n",
    "    return docs"
   ]
  },
  {
   "cell_type": "code",
   "execution_count": 188,
   "metadata": {
    "collapsed": false
   },
   "outputs": [],
   "source": [
    "contro_tfidf = list(set(create_docs(collection_contro, how ='together')))\n",
    "top_tfidf = list(set(create_docs(collection_top, how ='together')))"
   ]
  },
  {
   "cell_type": "code",
   "execution_count": 189,
   "metadata": {
    "collapsed": false
   },
   "outputs": [
    {
     "name": "stdout",
     "output_type": "stream",
     "text": [
      "3729\n"
     ]
    }
   ],
   "source": [
    "print len(contro_tfidf) + len(top_tfidf)"
   ]
  },
  {
   "cell_type": "markdown",
   "metadata": {},
   "source": [
    "## Get rid of posts in both document lists"
   ]
  },
  {
   "cell_type": "code",
   "execution_count": 191,
   "metadata": {
    "collapsed": false
   },
   "outputs": [
    {
     "name": "stdout",
     "output_type": "stream",
     "text": [
      "0\n"
     ]
    }
   ],
   "source": [
    "# RUN TWICE\n",
    "count = 0\n",
    "for c in contro_tfidf:\n",
    "    for t in top_tfidf:\n",
    "        if c == t:\n",
    "            count += 1\n",
    "            top_tfidf.remove(t)\n",
    "print count"
   ]
  },
  {
   "cell_type": "markdown",
   "metadata": {
    "collapsed": true
   },
   "source": [
    "# NMF"
   ]
  },
  {
   "cell_type": "code",
   "execution_count": 477,
   "metadata": {
    "collapsed": false,
    "scrolled": false
   },
   "outputs": [
    {
     "name": "stdout",
     "output_type": "stream",
     "text": [
      "Topic #0:\n",
      "said didn sex girl night friend went head mom thought room bed sleep tell phone away told asked face home\n",
      "Topic #1:\n",
      "direct link submitted users mobile benefit image feedback exist source op bread filter tree alien penny moon penguin garlic oreo\n",
      "Topic #2:\n",
      "game games play played overwatch playing uncharted pc witcher blizzard multiplayer player new ps souls fun thrones physics gaming doom\n",
      "Topic #3:\n",
      "trailer dory finding nemo ghostbusters trailers sea wait original lions movie pixar funny gonna new excited nieces looks jokes solid\n",
      "Topic #4:\n",
      "movie film movies films watch ghostbusters character star story sequel characters seen plot wars scene batman dc trailers cast marvel\n",
      "Topic #5:\n",
      "cat cats cute kitten kitty human meow birthday ocelot booty adorable magazine ass declawed catnip owner dream claws hammock albert\n",
      "Topic #6:\n",
      "feedback bot china war isis summary tldrs pms keywords constructive faq admin iran extended reduced far theory welcome replies original\n",
      "Topic #7:\n",
      "man black orange old oh white ugly god im big head hey water elephant hair knock known til iron rich\n",
      "Topic #8:\n",
      "looks delicious picture face cool damn amazing friend bad looking dad sauce hot burger reminds thought dude kinda fuck cosplay\n",
      "Topic #9:\n",
      "car cars driving drive lane driver speed traffic parking truck road drivers tesla stop bus left wheel self selfdriving autopilot\n",
      "Topic #10:\n",
      "dog dogs puppy cute pup owner pupper adorable breed animal watermelon tongue puppies wolf pet ball couch face eyes fry\n",
      "Topic #11:\n",
      "books book read reading series story dan world fantasy characters fiction ya history brown author writing interesting martin written character\n",
      "Topic #12:\n",
      "season episode watch shows tv characters seasons series netflix episodes watched bad watching finale breaking thrones sails office black dead\n",
      "Topic #13:\n",
      "ama comments tag removed request parent questions child posts concerns moderators automatically performed contact action jokes target offtopic subredditmessagecomposetoraskreddit discussion\n",
      "Topic #14:\n",
      "women men sex woman female girls gay gender male sexism sexual girl sexist guys article aren bathrooms black week feminists\n",
      "Topic #15:\n",
      "school kids high dad kid parents schools college teachers children teacher year student class grade students went private lol mom\n",
      "Topic #16:\n",
      "eat food chicken cake meat cheese vegan taste cream beer water pizza delicious vegans eating steak ice ll sauce fries\n",
      "Topic #17:\n",
      "life things world earth humans change feel human space doesn person water cancer live climate moon religion planet mean smart\n",
      "Topic #18:\n",
      "guy nsfw psbattle funny lol deleted fuck drunk fucking dude mirror face guys wrong guess reflection videos makes filming store\n",
      "Topic #19:\n",
      "song album music band songs rock creep radiohead played favorite live play metal listen cover danzig lastfm version new indie\n",
      "Topic #20:\n",
      "press hydraulic channel crushing subscribers million extinguisher youtube crush manual battery dangerous videos small milestone subs deal shed attack new\n",
      "Topic #21:\n",
      "reddit post repost gif op internet seen posted posts fridge funny facebook snowball picture quality gold ago title pop reposting\n",
      "Topic #22:\n",
      "day bad having leg days lettuce rain gym hours overwatch second life remember celebrate exactly otter brother launch went morning\n",
      "Topic #23:\n",
      "nice work beautiful amazing awesome photo oc job lol cool wow long art shot picture thanks painting gorgeous happy looking\n",
      "Topic #24:\n",
      "money pay buy job work house insurance tax rich company year paid mortgage taxes income home cost ll bank paying\n",
      "Topic #25:\n",
      "baby poor cute elephant horny beam bottle jim young awesome daughters sleepy carrots mother pregnant cards trying oranges nose nope\n",
      "Topic #26:\n",
      "video cool music videos youtube watch best league friend landlord year viral team old dude watching cp games soundtrack timelapse\n",
      "Topic #27:\n",
      "door hodor hold elevator soon today spoiler button thrones spoilers slick scene watching bastard doors word saw lift bro holds\n",
      "Topic #28:\n",
      "little happy cute bear kid adorable raider old bears ironic week titanium image excited reminds birthday makes panorama kittens lol\n",
      "Topic #29:\n",
      "joke funny trump black google jokes obama running slow racist punchline cancer babysitter paint bad guinness guys says biden rantijokes\n",
      "posts lost:  5\n",
      "posts included:  3671\n",
      "Total variance:  0.0\n"
     ]
    },
    {
     "data": {
      "image/png": "[encoded data removed]",
      "text/plain": [
       "<matplotlib.figure.Figure at 0x11f14fa90>"
      ]
     },
     "metadata": {},
     "output_type": "display_data"
    }
   ],
   "source": [
    "import matplotlib.pyplot as plt\n",
    "from collections import Counter\n",
    "import numpy as np\n",
    "%matplotlib inline\n",
    "import numpy as np\n",
    "from sklearn.decomposition import NMF\n",
    "from sklearn.feature_extraction.text import TfidfVectorizer\n",
    "\n",
    "NUM_TOPICS = 30\n",
    "NUM_WORDS = 20\n",
    "TOPIC_THRESHOLD = 0.1\n",
    "\n",
    "tfidf_vectorizer = TfidfVectorizer(analyzer='word', ngram_range=(1, 1),\n",
    "                                   lowercase = True,\n",
    "                                   stop_words='english',\n",
    "                                   token_pattern='\\\\b[a-z][a-z]+\\\\b',\n",
    "                                   max_df=0.2, min_df=3)\n",
    "dtm_tfidf = tfidf_vectorizer.fit_transform((top_tfidf + contro_tfidf))\n",
    "\n",
    "model = NMF(n_components = NUM_TOPICS)\n",
    "nmf = model.fit(dtm_tfidf)\n",
    "nmf_transformed = nmf.transform(dtm_tfidf)\n",
    "\n",
    "\n",
    "def print_top_words(model, feature_names, n_top_words):\n",
    "    topic_list = []\n",
    "    for topic_idx, topic in enumerate(model.components_):\n",
    "        print(\"Topic #%d:\" % topic_idx)\n",
    "        topics = \" \".join([feature_names[i] for i in topic.argsort()[:-n_top_words - 1:-1]])\n",
    "        topic_list.append(topics)\n",
    "        print(topics)\n",
    "    return topic_list\n",
    "\n",
    "print_top_words(nmf, tfidf_vectorizer.get_feature_names(), NUM_WORDS)\n",
    "\n",
    "\n",
    "count = 0\n",
    "topics_contro = []\n",
    "for row in nmf_transformed[:len(contro_tfidf)]:\n",
    "    sort = np.sort(row)[::-1]\n",
    "    if (sort[0] / sort[1]) > TOPIC_THRESHOLD:\n",
    "        topics_contro.append(np.argmax(row))\n",
    "    else:\n",
    "        count += 1\n",
    "\n",
    "\n",
    "count2 = 0\n",
    "topics_top = []\n",
    "for row in nmf_transformed[len(contro_tfidf):]:\n",
    "    sort = np.sort(row)[::-1]\n",
    "    if (sort[0] / sort[1]) > TOPIC_THRESHOLD:\n",
    "        topics_top.append(np.argmax(row))\n",
    "    else:\n",
    "        count2 += 1\n",
    "\n",
    "print 'posts lost: ', (count+count2)\n",
    "print 'posts included: ', (len(nmf_transformed) - count - count2)\n",
    "\n",
    "topic_count_top2 = Counter(topics_top)\n",
    "topic_count_contro2 = Counter(topics_contro)\n",
    "\n",
    "y_top2 = [(topic_count_top2[topic] / float(len(topics_top))) for topic in topic_count_top2.keys()]\n",
    "y_contro2 = [(topic_count_contro2[topic] / float(len(topics_contro))) for topic in topic_count_contro2.keys()]\n",
    "xs = np.arange(0,len(y_top2))\n",
    "\n",
    "plt.figure(figsize=(20,7))\n",
    "plt.bar(xs, y_top2, 0.35, label = 'top', color='b')\n",
    "plt.bar(xs + 0.35, y_contro2, 0.35, label = 'controversial', color='r')\n",
    "plt.xlabel('Topic')\n",
    "plt.ylabel('Percent of Posts')\n",
    "plt.xticks(xs + 0.4,xs)\n",
    "plt.legend()\n",
    "plt.xlim(0,len(y_top2))\n",
    "\n",
    "print 'Total variance: ', round(sum(np.array(y_top2) - np.array(y_contro2)),20)"
   ]
  },
  {
   "cell_type": "code",
   "execution_count": 396,
   "metadata": {
    "collapsed": false
   },
   "outputs": [
    {
     "name": "stdout",
     "output_type": "stream",
     "text": [
      "[  23  121  140  181  223  226  253  326  335  350  361  377  388  421  432\n",
      "  549  590  631  644  685  711  746  772  773  777  816  830  901  914  927\n",
      "  944  950  982  994 1003 1020 1023 1024 1028 1056 1096 1124]\n",
      "mr gong recently struck a deal with humane society international an animalrights group that has begun a campaign against dog farms in south korea \n",
      "False\n",
      "False\n",
      "False\n",
      "False\n",
      "False\n",
      "False\n",
      "False\n",
      "False\n",
      "False\n",
      "False\n",
      "True\n",
      "False\n",
      "False\n",
      "False\n",
      "True\n",
      "False\n",
      "False\n",
      "False\n",
      "False\n",
      "False\n",
      "False\n",
      "False\n",
      "False\n",
      "False\n",
      "False\n",
      "False\n",
      "False\n",
      "False\n",
      "False\n",
      "False\n",
      "False\n",
      "True\n",
      "False\n",
      "True\n",
      "False\n",
      "False\n",
      "False\n",
      "True\n",
      "False\n",
      "False\n",
      "False\n",
      "False\n"
     ]
    }
   ],
   "source": [
    "indices = np.where(np.array(topics_contro) == 27.)[0]\n",
    "print indices\n",
    "print contro_tfidf[23]\n",
    "for index in indices:\n",
    "#     print contro_tfidf[index]\n",
    "    print 'cat' in contro_tfidf[index]\n",
    "#     print"
   ]
  },
  {
   "cell_type": "code",
   "execution_count": 479,
   "metadata": {
    "collapsed": false
   },
   "outputs": [
    {
     "name": "stdout",
     "output_type": "stream",
     "text": [
      "Topic #0:\n",
      "said didn sex girl night friend went head mom thought\n",
      "Topic #1:\n",
      "direct link submitted users mobile benefit image feedback exist source\n",
      "Topic #2:\n",
      "game games play played overwatch playing uncharted pc witcher blizzard\n",
      "Topic #3:\n",
      "trailer dory finding nemo ghostbusters trailers sea wait original lions\n",
      "Topic #4:\n",
      "movie film movies films watch ghostbusters character star story sequel\n",
      "Topic #5:\n",
      "cat cats cute kitten kitty human meow birthday ocelot booty\n",
      "Topic #6:\n",
      "feedback bot china war isis summary tldrs pms keywords constructive\n",
      "Topic #7:\n",
      "man black orange old oh white ugly god im big\n",
      "Topic #8:\n",
      "looks delicious picture face cool damn amazing friend bad looking\n",
      "Topic #9:\n",
      "car cars driving drive lane driver speed traffic parking truck\n",
      "Topic #10:\n",
      "dog dogs puppy cute pup owner pupper adorable breed animal\n",
      "Topic #11:\n",
      "books book read reading series story dan world fantasy characters\n",
      "Topic #12:\n",
      "season episode watch shows tv characters seasons series netflix episodes\n",
      "Topic #13:\n",
      "ama comments tag removed request parent questions child posts concerns\n",
      "Topic #14:\n",
      "women men sex woman female girls gay gender male sexism\n",
      "Topic #15:\n",
      "school kids high dad kid parents schools college teachers children\n",
      "Topic #16:\n",
      "eat food chicken cake meat cheese vegan taste cream beer\n",
      "Topic #17:\n",
      "life things world earth humans change feel human space doesn\n",
      "Topic #18:\n",
      "guy nsfw psbattle funny lol deleted fuck drunk fucking dude\n",
      "Topic #19:\n",
      "song album music band songs rock creep radiohead played favorite\n",
      "Topic #20:\n",
      "press hydraulic channel crushing subscribers million extinguisher youtube crush manual\n",
      "Topic #21:\n",
      "reddit post repost gif op internet seen posted posts fridge\n",
      "Topic #22:\n",
      "day bad having leg days lettuce rain gym hours overwatch\n",
      "Topic #23:\n",
      "nice work beautiful amazing awesome photo oc job lol cool\n",
      "Topic #24:\n",
      "money pay buy job work house insurance tax rich company\n",
      "Topic #25:\n",
      "baby poor cute elephant horny beam bottle jim young awesome\n",
      "Topic #26:\n",
      "video cool music videos youtube watch best league friend landlord\n",
      "Topic #27:\n",
      "door hodor hold elevator soon today spoiler button thrones spoilers\n",
      "Topic #28:\n",
      "little happy cute bear kid adorable raider old bears ironic\n",
      "Topic #29:\n",
      "joke funny trump black google jokes obama running slow racist\n"
     ]
    },
    {
     "data": {
      "image/png": "[encoded data removed]",
      "text/plain": [
       "<matplotlib.figure.Figure at 0x11e1a5f50>"
      ]
     },
     "metadata": {},
     "output_type": "display_data"
    }
   ],
   "source": [
    "avg_across_topics_contro = np.mean(nmf_transformed[:len(contro_tfidf)], axis=0)\n",
    "avg_across_topics_top = np.mean(nmf_transformed[len(contro_tfidf):], axis=0)\n",
    "\n",
    "xss = np.arange(len(avg_across_topics_contro))\n",
    "wi = zip(avg_across_topics_contro, xss)\n",
    "wi_sorted = sorted(list(wi), reverse=True)\n",
    "sorted_contro = np.array([x[0] for x in wi_sorted])\n",
    "sorted_index = np.array([x[1] for x in wi_sorted])\n",
    "wit = zip(avg_across_topics_top, xss)\n",
    "sorted_top = []\n",
    "for i in sorted_index:\n",
    "    num = [x[0] for x in wit if x[1] == i]\n",
    "    sorted_top.append(num[0])\n",
    "sorted_top = np.array(sorted_top)\n",
    "\n",
    "plt.figure(figsize=(10,5))\n",
    "plt.bar(xss, sorted_contro, 0.35, label = 'contro', color='r')\n",
    "plt.bar(xss + 0.35, sorted_top, 0.35, label = 'top', color='b')\n",
    "plt.xticks(xss + 0.4,sorted_index)\n",
    "plt.legend()\n",
    "plt.title('Average Topic Shares from NMF')\n",
    "\n",
    "topic_words = print_top_words(nmf, tfidf_vectorizer.get_feature_names(), 10)\n",
    "topic_words = [str(word) for word in topic_words]\n",
    "\n",
    "# Save data to .tsv file\n",
    "np.set_printoptions(precision=8, suppress=True)\n",
    "complete = np.column_stack((topic_words, np.round(sorted_index,1), sorted_contro, sorted_top))\n",
    "# print complete\n",
    "\n",
    "np.savetxt('reddit.csv',complete, delimiter=',',fmt = ('%s','%s','%s','%s'), header='TopicWord,TopicNum,Controversial,Popular', comments='')"
   ]
  },
  {
   "cell_type": "code",
   "execution_count": 473,
   "metadata": {
    "collapsed": false
   },
   "outputs": [
    {
     "data": {
      "text/plain": [
       "<matplotlib.text.Text at 0x12d05db10>"
      ]
     },
     "execution_count": 473,
     "metadata": {},
     "output_type": "execute_result"
    },
    {
     "data": {
      "image/png": "[encoded data removed]",
      "text/plain": [
       "<matplotlib.figure.Figure at 0x12ba0dc10>"
      ]
     },
     "metadata": {},
     "output_type": "display_data"
    }
   ],
   "source": [
    "from sklearn.utils.extmath import randomized_svd\n",
    "U, Sigma, VT = randomized_svd(dtm_tfidf, n_components=100, n_iter=5,\n",
    "                              random_state=4444)\n",
    "\n",
    "plt.plot(Sigma)\n",
    "plt.plot([10,10],[0,9])\n",
    "plt.title('Singular Values From Complex Matrix')\n",
    "plt.xlabel('Number of Components / Topics')\n",
    "plt.ylabel('Singular Value')\n"
   ]
  },
  {
   "cell_type": "markdown",
   "metadata": {},
   "source": [
    "# Clustering"
   ]
  },
  {
   "cell_type": "code",
   "execution_count": 243,
   "metadata": {
    "collapsed": true
   },
   "outputs": [],
   "source": [
    "from sklearn.cluster import KMeans\n",
    "\n",
    "km = KMeans(n_clusters=2)\n",
    "y_pred = km.fit_predict(nmf_transformed)"
   ]
  },
  {
   "cell_type": "code",
   "execution_count": 244,
   "metadata": {
    "collapsed": false
   },
   "outputs": [
    {
     "data": {
      "text/plain": [
       "<matplotlib.collections.PathCollection at 0x1115280d0>"
      ]
     },
     "execution_count": 244,
     "metadata": {},
     "output_type": "execute_result"
    },
    {
     "data": {
      "image/png": "[encoded data removed]",
      "text/plain": [
       "<matplotlib.figure.Figure at 0x1154c7190>"
      ]
     },
     "metadata": {},
     "output_type": "display_data"
    }
   ],
   "source": [
    "plt.scatter(nmf_transformed[:,0], nmf_transformed[:,1], c=y_pred)"
   ]
  },
  {
   "cell_type": "markdown",
   "metadata": {},
   "source": [
    "# Classifier"
   ]
  },
  {
   "cell_type": "code",
   "execution_count": null,
   "metadata": {
    "collapsed": true
   },
   "outputs": [],
   "source": [
    "nmf_transformed[]"
   ]
  }
 ],
 "metadata": {
  "kernelspec": {
   "display_name": "Python 2",
   "language": "python",
   "name": "python2"
  },
  "language_info": {
   "codemirror_mode": {
    "name": "ipython",
    "version": 2
   },
   "file_extension": ".py",
   "mimetype": "text/x-python",
   "name": "python",
   "nbconvert_exporter": "python",
   "pygments_lexer": "ipython2",
   "version": "2.7.11"
  }
 },
 "nbformat": 4,
 "nbformat_minor": 0
}
