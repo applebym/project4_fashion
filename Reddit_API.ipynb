{
 "cells": [
  {
   "cell_type": "code",
   "execution_count": 173,
   "metadata": {
    "collapsed": true
   },
   "outputs": [],
   "source": [
    "import requests\n",
    "import requests.auth\n",
    "import json\n",
    "from bs4 import BeautifulSoup\n",
    "import tqdm"
   ]
  },
  {
   "cell_type": "code",
   "execution_count": null,
   "metadata": {
    "collapsed": true
   },
   "outputs": [],
   "source": [
    "headers = {\"User-Agent\": \"Chrome:project_fletcher:50.0.2661.102 (by /u/applebym)\"}"
   ]
  },
  {
   "cell_type": "code",
   "execution_count": 12,
   "metadata": {
    "collapsed": false
   },
   "outputs": [
    {
     "name": "stdout",
     "output_type": "stream",
     "text": [
      "{u'kind': u'Listing', u'data': {u'modhash': u'', u'children': [], u'after': None, u'before': None}}\n"
     ]
    }
   ],
   "source": [
    "response = requests.get(\"http://www.reddit.com/user/applebym/comments/.json\", headers=headers)\n",
    "data = response.json()\n",
    "print data"
   ]
  },
  {
   "cell_type": "markdown",
   "metadata": {},
   "source": [
    "### Secret Key: CSEh-CDdYOaRVLXX7jmxquMThME"
   ]
  },
  {
   "cell_type": "markdown",
   "metadata": {},
   "source": [
    "# PRAW"
   ]
  },
  {
   "cell_type": "code",
   "execution_count": 13,
   "metadata": {
    "collapsed": true
   },
   "outputs": [],
   "source": [
    "import praw"
   ]
  },
  {
   "cell_type": "code",
   "execution_count": 76,
   "metadata": {
    "collapsed": false
   },
   "outputs": [
    {
     "ename": "TypeError",
     "evalue": "set_oauth_app_info() takes exactly 4 arguments (3 given)",
     "output_type": "error",
     "traceback": [
      "\u001b[0;31m---------------------------------------------------------------------------\u001b[0m",
      "\u001b[0;31mTypeError\u001b[0m                                 Traceback (most recent call last)",
      "\u001b[0;32m<ipython-input-76-f4218a3ce5be>\u001b[0m in \u001b[0;36m<module>\u001b[0;34m()\u001b[0m\n\u001b[1;32m      1\u001b[0m \u001b[0mr\u001b[0m \u001b[0;34m=\u001b[0m \u001b[0mpraw\u001b[0m\u001b[0;34m.\u001b[0m\u001b[0mReddit\u001b[0m\u001b[0;34m(\u001b[0m\u001b[0muser_agent\u001b[0m\u001b[0;34m=\u001b[0m\u001b[0;34m\"Chrome:project_fletcher:50.0.2661.102 (by /u/applebym)\"\u001b[0m\u001b[0;34m)\u001b[0m\u001b[0;34m\u001b[0m\u001b[0m\n\u001b[1;32m      2\u001b[0m r.set_oauth_app_info(client_id = 'jKNNGv4QxJTc1A',\n\u001b[0;32m----> 3\u001b[0;31m                      client_secret = 'CSEh-CDdYOaRVLXX7jmxquMThME')\n\u001b[0m",
      "\u001b[0;31mTypeError\u001b[0m: set_oauth_app_info() takes exactly 4 arguments (3 given)"
     ]
    }
   ],
   "source": [
    "r = praw.Reddit(user_agent=\"Chrome:project_fletcher:50.0.2661.102 (by /u/applebym)\")\n",
    "# r.set_oauth_app_info(client_id = 'jKNNGv4QxJTc1A',\n",
    "#                      client_secret = 'CSEh-CDdYOaRVLXX7jmxquMThME',\n",
    "#                      redirect_uri = 'http://127.0.0.1')"
   ]
  },
  {
   "cell_type": "code",
   "execution_count": 110,
   "metadata": {
    "collapsed": false
   },
   "outputs": [
    {
     "name": "stdout",
     "output_type": "stream",
     "text": [
      "<type 'generator'>\n"
     ]
    },
    {
     "data": {
      "text/plain": [
       "['12 :: SourceForge Tightens Security With Malware Scans',\n",
       " '9 :: Showing abilities of PVS-Studio analyzer by examples of Microsoft open-s...',\n",
       " '10 :: San Francisco Container 101 meetup - learn more about open source tools...',\n",
       " '6 :: Building a bootstrapped business on open source',\n",
       " '3 :: If there was a FOSS Chess Set, what would the pieces be?']"
      ]
     },
     "execution_count": 110,
     "metadata": {},
     "output_type": "execute_result"
    }
   ],
   "source": [
    "submissions = r.get_subreddit('opensource').get_top(limit=5)\n",
    "print type(submissions)\n",
    "[str(x) for x in submissions]"
   ]
  },
  {
   "cell_type": "code",
   "execution_count": 71,
   "metadata": {
    "collapsed": false
   },
   "outputs": [],
   "source": [
    "# subreddit = r.get_subreddit('top')\n",
    "all_comments = r.get_comments('dataisbeautiful')"
   ]
  },
  {
   "cell_type": "code",
   "execution_count": 74,
   "metadata": {
    "collapsed": false
   },
   "outputs": [
    {
     "name": "stdout",
     "output_type": "stream",
     "text": [
      "Absolutely shall! I have a fairly busy end-of-week so I'd expect it up by mid next week.\n",
      "\n",
      "I read Google Sheets as an app from Google *specifically* for sleep tracking...\n",
      "\n"
     ]
    }
   ],
   "source": [
    "count = 0\n",
    "for comment in all_comments:\n",
    "    print comment.body\n",
    "    print\n",
    "    count += 1\n",
    "    if count == 2: break"
   ]
  },
  {
   "cell_type": "code",
   "execution_count": 97,
   "metadata": {
    "collapsed": false
   },
   "outputs": [
    {
     "name": "stdout",
     "output_type": "stream",
     "text": [
      "Story update: Apparently they were one only two planes in the sky initially, ...\n",
      "I flew over it today:  http://imgur.com/KKNRDlY\n",
      "Do you still have the original negatives?\n",
      "Scanning in 48-bit can allow manipu...\n",
      "Your grandfather is a bad ass.\n",
      "Here is the main photo with a little cleanup.\n",
      "http://imgur.com/q1NN1j3\n",
      "Some incredible 1st hand accounts of the people who did and didn't make it of...\n",
      "i love the filter your grandpa was using on instagram.\n",
      "Why the decision to stop hearing about these pictures after today? \n",
      "\"Now if everyone looks out their window, you can see an actual volcano erupti...\n",
      "If you like those, check out these...[Mt. Saint Helens Eruption May 18th 1980...\n"
     ]
    }
   ],
   "source": [
    "submission = r.get_front_page(limit=1)\n",
    "for post in submission:\n",
    "    post.replace_more_comments()\n",
    "    comments = post.comments\n",
    "    for comment in comments[:10]:\n",
    "        print comment"
   ]
  },
  {
   "cell_type": "code",
   "execution_count": 133,
   "metadata": {
    "collapsed": false
   },
   "outputs": [],
   "source": [
    "import datetime\n",
    "import time\n",
    "low = (datetime.date.today() - datetime.timedelta(1)).strftime(\"%s\")\n",
    "high = datetime.date.today().strftime(\"%s\")\n",
    "data = praw.helpers.submissions_between(r, 'atheism',\n",
    "                                  lowest_timestamp=low,\n",
    "                                  highest_timestamp=high)"
   ]
  },
  {
   "cell_type": "code",
   "execution_count": 134,
   "metadata": {
    "collapsed": false
   },
   "outputs": [
    {
     "name": "stderr",
     "output_type": "stream",
     "text": [
      "Total processed submissions: 0\n"
     ]
    },
    {
     "name": "stdout",
     "output_type": "stream",
     "text": [
      "37 :: The number of Iowa parents seeking religious exemptions to vaccination ...\n",
      "5 :: My friend tried to write a Speech which he hoped would inspire peaceful ...\n",
      "15 :: George Carlin - Christian Athletes\n"
     ]
    }
   ],
   "source": [
    "count = 0\n",
    "for x in data:\n",
    "    print str(x) \n",
    "    count +=1\n",
    "    if count ==3: break"
   ]
  },
  {
   "cell_type": "code",
   "execution_count": 176,
   "metadata": {
    "collapsed": true
   },
   "outputs": [],
   "source": [
    "def collect_submission_data(page='top',limit=1000):\n",
    "    \"\"\"Collects data on Reddit submissions (posts) within the 'top' category.\n",
    "    limit = number of submissions\n",
    "    \"\"\"\n",
    "    main_dict = {}\n",
    "    if page == 'top':\n",
    "        submissions = r.get_top(limit=limit)\n",
    "    elif page == 'controversial':\n",
    "        submissions = r.get_controversial(limit=limit)\n",
    "    else:\n",
    "        print \"Wrong parameter for page\"\n",
    "        return\n",
    "    unique_id = 1\n",
    "    for post in submissions:    \n",
    "        temp = {}\n",
    "        temp['title'] = post.title\n",
    "        temp['url'] = post.url \n",
    "        post.replace_more_comments(limit=10, threshold=1)\n",
    "        comment_list = []\n",
    "        for comment in sorted(post.comments, key=lambda x: x.score, reverse=True):\n",
    "            comment_list.append([comment.body, comment.score])        \n",
    "        temp['comments'] = comment_list\n",
    "        print len(comment_list)\n",
    "        main_dict[unique_id] = temp\n",
    "        unique_id += 1\n",
    "    return main_dict"
   ]
  },
  {
   "cell_type": "code",
   "execution_count": 175,
   "metadata": {
    "collapsed": false
   },
   "outputs": [
    {
     "ename": "TypeError",
     "evalue": "'module' object is not callable",
     "output_type": "error",
     "traceback": [
      "\u001b[0;31m---------------------------------------------------------------------------\u001b[0m",
      "\u001b[0;31mTypeError\u001b[0m                                 Traceback (most recent call last)",
      "\u001b[0;32m<ipython-input-175-513ee0b81499>\u001b[0m in \u001b[0;36m<module>\u001b[0;34m()\u001b[0m\n\u001b[0;32m----> 1\u001b[0;31m \u001b[0mtd\u001b[0m \u001b[0;34m=\u001b[0m \u001b[0mcollect_submission_data\u001b[0m\u001b[0;34m(\u001b[0m\u001b[0mpage\u001b[0m\u001b[0;34m=\u001b[0m\u001b[0;34m'top'\u001b[0m\u001b[0;34m,\u001b[0m \u001b[0mlimit\u001b[0m\u001b[0;34m=\u001b[0m\u001b[0;36m1\u001b[0m\u001b[0;34m)\u001b[0m\u001b[0;34m\u001b[0m\u001b[0m\n\u001b[0m\u001b[1;32m      2\u001b[0m \u001b[0;31m# cd = collect_submission_data(page='controversial')\u001b[0m\u001b[0;34m\u001b[0m\u001b[0;34m\u001b[0m\u001b[0m\n",
      "\u001b[0;32m<ipython-input-174-df63489c4c88>\u001b[0m in \u001b[0;36mcollect_submission_data\u001b[0;34m(page, limit)\u001b[0m\n\u001b[1;32m     12\u001b[0m         \u001b[0;32mreturn\u001b[0m\u001b[0;34m\u001b[0m\u001b[0m\n\u001b[1;32m     13\u001b[0m     \u001b[0munique_id\u001b[0m \u001b[0;34m=\u001b[0m \u001b[0;36m1\u001b[0m\u001b[0;34m\u001b[0m\u001b[0m\n\u001b[0;32m---> 14\u001b[0;31m     \u001b[0;32mfor\u001b[0m \u001b[0mpost\u001b[0m \u001b[0;32min\u001b[0m \u001b[0mtqdm\u001b[0m\u001b[0;34m(\u001b[0m\u001b[0msubmissions\u001b[0m\u001b[0;34m)\u001b[0m\u001b[0;34m:\u001b[0m\u001b[0;34m\u001b[0m\u001b[0m\n\u001b[0m\u001b[1;32m     15\u001b[0m         \u001b[0mtemp\u001b[0m \u001b[0;34m=\u001b[0m \u001b[0;34m{\u001b[0m\u001b[0;34m}\u001b[0m\u001b[0;34m\u001b[0m\u001b[0m\n\u001b[1;32m     16\u001b[0m         \u001b[0mtemp\u001b[0m\u001b[0;34m[\u001b[0m\u001b[0;34m'title'\u001b[0m\u001b[0;34m]\u001b[0m \u001b[0;34m=\u001b[0m \u001b[0mpost\u001b[0m\u001b[0;34m.\u001b[0m\u001b[0mtitle\u001b[0m\u001b[0;34m\u001b[0m\u001b[0m\n",
      "\u001b[0;31mTypeError\u001b[0m: 'module' object is not callable"
     ]
    }
   ],
   "source": [
    "td = collect_submission_data(page='top')\n",
    "cd = collect_submission_data(page='controversial')"
   ]
  }
 ],
 "metadata": {
  "kernelspec": {
   "display_name": "Python 2",
   "language": "python",
   "name": "python2"
  },
  "language_info": {
   "codemirror_mode": {
    "name": "ipython",
    "version": 2
   },
   "file_extension": ".py",
   "mimetype": "text/x-python",
   "name": "python",
   "nbconvert_exporter": "python",
   "pygments_lexer": "ipython2",
   "version": "2.7.11"
  }
 },
 "nbformat": 4,
 "nbformat_minor": 0
}
